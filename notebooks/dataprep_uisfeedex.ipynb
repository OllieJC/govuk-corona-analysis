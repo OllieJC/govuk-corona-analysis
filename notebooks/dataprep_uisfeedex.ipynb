{
 "cells": [
  {
   "cell_type": "markdown",
   "metadata": {},
   "source": [
    "# Data Preparation\n",
    "This script prepares the data for user-researchers to begin tagging the responses.\n",
    "\n",
    "The end output is a combined dataset comprising of:\n",
    "- User Intent Survey responses\n",
    "- Feedex survey responses\n",
    "    + Feedex is an anonymised subset of Zendesk\n",
    "\n",
    "These two datsets should be de-duplicated and have Personal Identifying Information (PII) removed.\n",
    "\n",
    "Given PII is already removed before we import them into Python, then the steps we need to take are:\n",
    "\n",
    "- [ ] Remove duplicates from the UIS and Zendesk survey responses\n",
    "- [ ] Extract the Feedex responses from the Zendesk survey\n",
    "- [ ] Join the two datasets together"
   ]
  },
  {
   "cell_type": "code",
   "execution_count": null,
   "metadata": {},
   "outputs": [],
   "source": [
    "# allow multiple outputs in same cell\n",
    "from IPython.core.interactiveshell import InteractiveShell\n",
    "InteractiveShell.ast_node_interactivity = \"all\"\n",
    "\n",
    "import pandas as pd\n",
    "\n",
    "# read in dataset\n",
    "data_uis = pd.read_csv(\"../data/uisdata_all_cols_all_of_march.csv\")\n",
    "data_zendesk = pd.read_csv(\"../data/cleaned_zendesk-01-04-2020.csv\")"
   ]
  },
  {
   "cell_type": "markdown",
   "metadata": {},
   "source": [
    "Have plenty of columns in this dataframe so rather than view the contents of it, generate a list of column names instead."
   ]
  },
  {
   "cell_type": "code",
   "execution_count": null,
   "metadata": {},
   "outputs": [],
   "source": [
    "list(data_uis)\n",
    "list(data_zendesk)"
   ]
  },
  {
   "cell_type": "code",
   "execution_count": null,
   "metadata": {},
   "outputs": [],
   "source": [
    "data_uis.head(10)\n",
    "data_zendesk.head(10)"
   ]
  },
  {
   "cell_type": "markdown",
   "metadata": {},
   "source": [
    "## Saving for Version-control\n",
    "Below, we write our Jupyter notebook into two different formats so that it is easy to version-control:\n",
    "\n",
    "- HTML: This is so readers can see the outputs.\n",
    "- Python: This is so readers can run the code."
   ]
  },
  {
   "cell_type": "code",
   "execution_count": null,
   "metadata": {},
   "outputs": [],
   "source": [
    "# convert to HTML (for reading) and Python script (for coding)\n",
    "!jupyter nbconvert --to html dataprep_uisfeedex.ipynb\n",
    "!jupyter nbconvert --to python dataprep_uisfeedex.ipynb"
   ]
  },
  {
   "cell_type": "code",
   "execution_count": null,
   "metadata": {},
   "outputs": [],
   "source": [
    "!jupyter nbconvert --to python dataprep_uisfeedex.ipynb"
   ]
  },
  {
   "cell_type": "code",
   "execution_count": null,
   "metadata": {},
   "outputs": [],
   "source": []
  }
 ],
 "metadata": {
  "kernelspec": {
   "display_name": "",
   "language": "python",
   "name": ""
  },
  "language_info": {
   "codemirror_mode": {
    "name": "ipython",
    "version": 3
   },
   "file_extension": ".py",
   "mimetype": "text/x-python",
   "name": "python",
   "nbconvert_exporter": "python",
   "pygments_lexer": "ipython3",
   "version": "3.7.7"
  }
 },
 "nbformat": 4,
 "nbformat_minor": 4
}
