{
 "cells": [
  {
   "cell_type": "code",
   "execution_count": null,
   "metadata": {
    "ExecuteTime": {
     "end_time": "2020-03-31T13:53:08.377319Z",
     "start_time": "2020-03-31T13:53:07.841562Z"
    }
   },
   "outputs": [],
   "source": [
    "import pandas as pd\n",
    "\n",
    "import re"
   ]
  },
  {
   "cell_type": "code",
   "execution_count": null,
   "metadata": {
    "ExecuteTime": {
     "end_time": "2020-03-31T16:31:59.945366Z",
     "start_time": "2020-03-31T16:31:58.275254Z"
    }
   },
   "outputs": [],
   "source": [
    "# march_survey_df = pd.concat([\n",
    "#     pd.read_csv('../../data/raw/uis_ga_all_cols_20200301_20200327.csv',\n",
    "#                low_memory=False).rename(\n",
    "#         columns={'Q4_x': 'Q4'}),\n",
    "#     pd.read_csv('../../data/raw/uis_ga_all_cols_20200328_20200329.csv').rename(\n",
    "#         columns={'Q4_x': 'Q4', 'Q5_x': 'Q5'}),\n",
    "#     pd.read_csv('../../data/raw/uis_ga_all_cols_20200330.csv').rename(\n",
    "#         columns={'Q4_x': 'Q4', 'Q5_x': 'Q5'}),\n",
    "# ])\n",
    "\n",
    "march_survey_df = pd.read_csv(\n",
    "    '../../data/raw/uis_ga_all_cols_20200301_20200327.csv',\n",
    "    low_memory=False).rename(columns={'Q4_x': 'Q4'})"
   ]
  },
  {
   "cell_type": "code",
   "execution_count": null,
   "metadata": {
    "ExecuteTime": {
     "end_time": "2020-03-31T16:32:01.011686Z",
     "start_time": "2020-03-31T16:32:01.005599Z"
    }
   },
   "outputs": [],
   "source": [
    "march_survey_df.columns"
   ]
  },
  {
   "cell_type": "code",
   "execution_count": null,
   "metadata": {
    "ExecuteTime": {
     "end_time": "2020-03-31T16:32:08.321645Z",
     "start_time": "2020-03-31T16:32:08.241164Z"
    }
   },
   "outputs": [],
   "source": [
    "march_survey_df_thinner = march_survey_df[[\n",
    "    'primary_key', 'intents_clientID',\n",
    "    'Q1', 'Q2', 'Q3', 'Q4', 'Q5', 'Q6', 'Q7', 'Q8',\n",
    "    'Started_Date','Ended_Date'\n",
    "]].drop_duplicates()"
   ]
  },
  {
   "cell_type": "code",
   "execution_count": null,
   "metadata": {
    "ExecuteTime": {
     "end_time": "2020-03-31T16:32:08.719433Z",
     "start_time": "2020-03-31T16:32:08.715340Z"
    }
   },
   "outputs": [],
   "source": [
    "march_survey_df_thinner.shape"
   ]
  },
  {
   "cell_type": "code",
   "execution_count": null,
   "metadata": {
    "ExecuteTime": {
     "end_time": "2020-03-31T16:32:08.912053Z",
     "start_time": "2020-03-31T16:32:08.896078Z"
    }
   },
   "outputs": [],
   "source": [
    "march_survey_df_thinner.head()"
   ]
  },
  {
   "cell_type": "code",
   "execution_count": null,
   "metadata": {
    "ExecuteTime": {
     "end_time": "2020-03-31T16:32:15.333380Z",
     "start_time": "2020-03-31T16:32:09.241840Z"
    }
   },
   "outputs": [],
   "source": [
    "Q3_list = march_survey_df_thinner['Q3'].dropna().map(\n",
    "    lambda x: re.split('\\. |\\.|\\? |\\?|! |!',x)).sum()"
   ]
  },
  {
   "cell_type": "code",
   "execution_count": null,
   "metadata": {
    "ExecuteTime": {
     "end_time": "2020-03-31T16:32:15.344317Z",
     "start_time": "2020-03-31T16:32:15.335327Z"
    }
   },
   "outputs": [],
   "source": [
    "from rake_nltk import Metric, Rake\n",
    "\n",
    "# Paper uses d(w)/f(w) as the final metric. You can use this API with the\n",
    "# following metrics:\n",
    "\n",
    "# 1. d(w)/f(w) (Default metric) Ratio of degree of word to its frequency.\n",
    "# r = Rake(ranking_metric=Metric.DEGREE_TO_FREQUENCY_RATIO)\n",
    "\n",
    "# # 2. d(w) Degree of word only.\n",
    "# r = Rake(ranking_metric=Metric.WORD_DEGREE)\n",
    "\n",
    "# 3. f(w) Frequency of word only.\n",
    "r = Rake(\n",
    "#     ranking_metric=Metric.WORD_FREQUENCY,\n",
    "    max_length=10,\n",
    "#     punctuations=','\n",
    "        )"
   ]
  },
  {
   "cell_type": "code",
   "execution_count": null,
   "metadata": {
    "ExecuteTime": {
     "end_time": "2020-03-31T16:32:15.352135Z",
     "start_time": "2020-03-31T16:32:15.347633Z"
    }
   },
   "outputs": [],
   "source": [
    "# want to drop ones where it's just '-'"
   ]
  },
  {
   "cell_type": "code",
   "execution_count": null,
   "metadata": {
    "ExecuteTime": {
     "end_time": "2020-03-31T16:32:15.358587Z",
     "start_time": "2020-03-31T16:32:15.354124Z"
    }
   },
   "outputs": [],
   "source": [
    "Q3_list[8]"
   ]
  },
  {
   "cell_type": "code",
   "execution_count": null,
   "metadata": {
    "ExecuteTime": {
     "end_time": "2020-03-31T16:32:16.951317Z",
     "start_time": "2020-03-31T16:32:15.360705Z"
    }
   },
   "outputs": [],
   "source": [
    "# Extraction given the list of strings where each string is a sentence.\n",
    "r.extract_keywords_from_sentences(Q3_list)\n"
   ]
  },
  {
   "cell_type": "code",
   "execution_count": null,
   "metadata": {
    "ExecuteTime": {
     "end_time": "2020-03-31T16:32:17.006092Z",
     "start_time": "2020-03-31T16:32:16.953109Z"
    }
   },
   "outputs": [],
   "source": [
    "# To get keyword phrases ranked highest to lowest.\n",
    "r.get_ranked_phrases_with_scores()"
   ]
  },
  {
   "cell_type": "code",
   "execution_count": null,
   "metadata": {
    "ExecuteTime": {
     "end_time": "2020-03-31T16:19:26.491578Z",
     "start_time": "2020-03-31T16:19:26.488819Z"
    }
   },
   "outputs": [],
   "source": [
    "import nltk\n"
   ]
  },
  {
   "cell_type": "code",
   "execution_count": null,
   "metadata": {
    "ExecuteTime": {
     "end_time": "2020-03-31T16:19:27.566867Z",
     "start_time": "2020-03-31T16:19:27.558063Z"
    }
   },
   "outputs": [],
   "source": [
    "nltk.corpus.stopwords.words('english').append()"
   ]
  },
  {
   "cell_type": "code",
   "execution_count": null,
   "metadata": {
    "ExecuteTime": {
     "end_time": "2020-03-31T16:27:41.254086Z",
     "start_time": "2020-03-31T16:27:41.163681Z"
    }
   },
   "outputs": [],
   "source": [
    "pd.read_csv('../../data/raw/uis_ga_all_cols_20200330.csv').columns"
   ]
  },
  {
   "cell_type": "code",
   "execution_count": null,
   "metadata": {
    "ExecuteTime": {
     "end_time": "2020-03-31T16:27:36.661759Z",
     "start_time": "2020-03-31T16:27:36.550215Z"
    }
   },
   "outputs": [],
   "source": [
    "pd.read_csv('../../data/raw/uis_ga_all_cols_20200328_20200329.csv').columns"
   ]
  },
  {
   "cell_type": "code",
   "execution_count": null,
   "metadata": {},
   "outputs": [],
   "source": []
  }
 ],
 "metadata": {
  "kernelspec": {
   "display_name": "",
   "language": "python",
   "name": ""
  },
  "language_info": {
   "codemirror_mode": {
    "name": "ipython",
    "version": 3
   },
   "file_extension": ".py",
   "mimetype": "text/x-python",
   "name": "python",
   "nbconvert_exporter": "python",
   "pygments_lexer": "ipython3",
   "version": "3.7.2"
  },
  "toc": {
   "base_numbering": 1,
   "nav_menu": {},
   "number_sections": true,
   "sideBar": true,
   "skip_h1_title": false,
   "title_cell": "Table of Contents",
   "title_sidebar": "Contents",
   "toc_cell": false,
   "toc_position": {},
   "toc_section_display": true,
   "toc_window_display": false
  }
 },
 "nbformat": 4,
 "nbformat_minor": 4
}
