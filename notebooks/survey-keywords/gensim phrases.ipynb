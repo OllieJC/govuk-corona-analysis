{
 "cells": [
  {
   "cell_type": "code",
   "execution_count": null,
   "metadata": {
    "ExecuteTime": {
     "end_time": "2020-04-01T09:51:46.765237Z",
     "start_time": "2020-04-01T09:51:46.300554Z"
    }
   },
   "outputs": [],
   "source": [
    "import pandas as pd\n",
    "\n",
    "import re"
   ]
  },
  {
   "cell_type": "code",
   "execution_count": null,
   "metadata": {
    "ExecuteTime": {
     "end_time": "2020-04-01T09:51:48.327114Z",
     "start_time": "2020-04-01T09:51:46.767205Z"
    }
   },
   "outputs": [],
   "source": [
    "# march_survey_df = pd.concat([\n",
    "#     pd.read_csv('../../data/raw/uis_ga_all_cols_20200301_20200327.csv',\n",
    "#                low_memory=False).rename(\n",
    "#         columns={'Q4_x': 'Q4'}),\n",
    "#     pd.read_csv('../../data/raw/uis_ga_all_cols_20200328_20200329.csv').rename(\n",
    "#         columns={'Q4_x': 'Q4', 'Q5_x': 'Q5'}),\n",
    "#     pd.read_csv('../../data/raw/uis_ga_all_cols_20200330.csv').rename(\n",
    "#         columns={'Q4_x': 'Q4', 'Q5_x': 'Q5'}),\n",
    "# ])\n",
    "\n",
    "march_survey_df = pd.read_csv(\n",
    "    '../../data/raw/uis_ga_all_cols_20200301_20200327.csv',\n",
    "    low_memory=False).rename(columns={'Q4_x': 'Q4'})"
   ]
  },
  {
   "cell_type": "code",
   "execution_count": null,
   "metadata": {
    "ExecuteTime": {
     "end_time": "2020-04-01T09:51:48.340867Z",
     "start_time": "2020-04-01T09:51:48.329219Z"
    }
   },
   "outputs": [],
   "source": [
    "march_survey_df.columns"
   ]
  },
  {
   "cell_type": "code",
   "execution_count": null,
   "metadata": {
    "ExecuteTime": {
     "end_time": "2020-04-01T09:51:48.419224Z",
     "start_time": "2020-04-01T09:51:48.342750Z"
    }
   },
   "outputs": [],
   "source": [
    "march_survey_df_thinner = march_survey_df[[\n",
    "    'primary_key', 'intents_clientID',\n",
    "    'Q1', 'Q2', 'Q3', 'Q4', 'Q5', 'Q6', 'Q7', 'Q8',\n",
    "    'Started_Date','Ended_Date'\n",
    "]].drop_duplicates()"
   ]
  },
  {
   "cell_type": "code",
   "execution_count": null,
   "metadata": {
    "ExecuteTime": {
     "end_time": "2020-04-01T09:51:48.629357Z",
     "start_time": "2020-04-01T09:51:48.625362Z"
    }
   },
   "outputs": [],
   "source": [
    "march_survey_df_thinner.shape"
   ]
  },
  {
   "cell_type": "code",
   "execution_count": null,
   "metadata": {
    "ExecuteTime": {
     "end_time": "2020-04-01T09:51:48.897090Z",
     "start_time": "2020-04-01T09:51:48.874833Z"
    }
   },
   "outputs": [],
   "source": [
    "march_survey_df_thinner.head()"
   ]
  },
  {
   "cell_type": "code",
   "execution_count": null,
   "metadata": {
    "ExecuteTime": {
     "end_time": "2020-04-01T09:51:54.885169Z",
     "start_time": "2020-04-01T09:51:49.357662Z"
    },
    "code_folding": []
   },
   "outputs": [],
   "source": [
    "# Was using this to split text up into sentence, perhaps textcleaner is better?\n",
    "\n",
    "# Q3_list = march_survey_df_thinner['Q3'].dropna().map(\n",
    "#     lambda x: re.split('\\. |\\.|\\? |\\?|! |!',x)).sum()"
   ]
  },
  {
   "cell_type": "code",
   "execution_count": null,
   "metadata": {
    "ExecuteTime": {
     "end_time": "2020-04-02T10:18:05.562327Z",
     "start_time": "2020-04-02T10:18:02.605298Z"
    }
   },
   "outputs": [],
   "source": [
    "# from gensim.models import Word2Vec\n",
    "\n",
    "import gensim.summarization.textcleaner as textcleaner\n",
    "\n",
    "from gensim import utils\n",
    "\n",
    "import nltk"
   ]
  },
  {
   "cell_type": "code",
   "execution_count": null,
   "metadata": {
    "ExecuteTime": {
     "end_time": "2020-04-02T10:18:26.330586Z",
     "start_time": "2020-04-02T10:18:26.318724Z"
    }
   },
   "outputs": [],
   "source": [
    "march_survey_df_thinner['Q3'][4]"
   ]
  },
  {
   "cell_type": "code",
   "execution_count": null,
   "metadata": {
    "ExecuteTime": {
     "end_time": "2020-04-02T10:58:46.743975Z",
     "start_time": "2020-04-02T10:58:46.738984Z"
    }
   },
   "outputs": [],
   "source": [
    "textcleaner.clean_text_by_sentences(march_survey_df_thinner['Q3'][4])"
   ]
  },
  {
   "cell_type": "code",
   "execution_count": null,
   "metadata": {
    "ExecuteTime": {
     "end_time": "2020-04-02T11:05:52.703555Z",
     "start_time": "2020-04-02T11:05:52.697765Z"
    }
   },
   "outputs": [],
   "source": [
    "def clean_text_by_sentences_return_clean(text):\n",
    "    \"\"\"Tokenize a given text into sentences, applying filters and lemmatize them.\n",
    "    Parameters\n",
    "    ----------\n",
    "    text : str\n",
    "        Given text.\n",
    "    Returns\n",
    "    -------\n",
    "    list of strings\n",
    "        Sentences of the given text.\n",
    "    \"\"\"\n",
    "    original_sentences = textcleaner.split_sentences(text)\n",
    "    filtered_sentences = [textcleaner.join_words(sentence) for sentence in textcleaner.preprocess_documents(original_sentences)]\n",
    "\n",
    "    return filtered_sentences"
   ]
  },
  {
   "cell_type": "code",
   "execution_count": null,
   "metadata": {
    "ExecuteTime": {
     "end_time": "2020-04-02T11:06:05.130350Z",
     "start_time": "2020-04-02T11:06:05.125044Z"
    }
   },
   "outputs": [],
   "source": [
    "clean_text_by_sentences_return_clean(march_survey_df_thinner['Q3'][4])"
   ]
  },
  {
   "cell_type": "code",
   "execution_count": null,
   "metadata": {},
   "outputs": [],
   "source": [
    "sentences "
   ]
  },
  {
   "cell_type": "code",
   "execution_count": null,
   "metadata": {
    "ExecuteTime": {
     "end_time": "2020-03-31T16:32:15.352135Z",
     "start_time": "2020-03-31T16:32:15.347633Z"
    }
   },
   "outputs": [],
   "source": [
    "phrases = Phrases(raw_sentences_overall,\n",
    "#                   min_count=30, \n",
    "                  min_count=5,\n",
    "                  threshold=7,\n",
    "                  progress_per=10000)"
   ]
  },
  {
   "cell_type": "code",
   "execution_count": null,
   "metadata": {},
   "outputs": [],
   "source": []
  }
 ],
 "metadata": {
  "kernelspec": {
   "display_name": "",
   "language": "python",
   "name": ""
  },
  "language_info": {
   "codemirror_mode": {
    "name": "ipython",
    "version": 3
   },
   "file_extension": ".py",
   "mimetype": "text/x-python",
   "name": "python",
   "nbconvert_exporter": "python",
   "pygments_lexer": "ipython3",
   "version": "3.7.2"
  },
  "toc": {
   "base_numbering": 1,
   "nav_menu": {},
   "number_sections": true,
   "sideBar": true,
   "skip_h1_title": false,
   "title_cell": "Table of Contents",
   "title_sidebar": "Contents",
   "toc_cell": false,
   "toc_position": {},
   "toc_section_display": true,
   "toc_window_display": false
  }
 },
 "nbformat": 4,
 "nbformat_minor": 4
}
